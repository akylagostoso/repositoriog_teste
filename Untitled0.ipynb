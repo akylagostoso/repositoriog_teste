{
  "nbformat": 4,
  "nbformat_minor": 0,
  "metadata": {
    "colab": {
      "provenance": [],
      "authorship_tag": "ABX9TyNI5R/abl8JYkm+6Hk8SAZk",
      "include_colab_link": true
    },
    "kernelspec": {
      "name": "python3",
      "display_name": "Python 3"
    },
    "language_info": {
      "name": "python"
    }
  },
  "cells": [
    {
      "cell_type": "markdown",
      "metadata": {
        "id": "view-in-github",
        "colab_type": "text"
      },
      "source": [
        "<a href=\"https://colab.research.google.com/github/akylagostoso/repositoriog_teste/blob/main/Untitled0.ipynb\" target=\"_parent\"><img src=\"https://colab.research.google.com/assets/colab-badge.svg\" alt=\"Open In Colab\"/></a>"
      ]
    },
    {
      "cell_type": "code",
      "source": [
        "print(\"I competição de Programação da Start\")"
      ],
      "metadata": {
        "id": "DXPAjIqhQNxz",
        "colab": {
          "base_uri": "https://localhost:8080/"
        },
        "outputId": "7bbba468-9e87-4068-e2a3-bd2433739e3e"
      },
      "execution_count": null,
      "outputs": [
        {
          "output_type": "stream",
          "name": "stdout",
          "text": [
            "I competição de Programação da Start\n"
          ]
        }
      ]
    },
    {
      "cell_type": "code",
      "source": [
        "print(f{ano} competição de programação da start\")"
      ],
      "metadata": {
        "id": "J8nXh98vmW1j"
      },
      "execution_count": null,
      "outputs": []
    }
  ]
}